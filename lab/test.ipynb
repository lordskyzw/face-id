{
 "cells": [
  {
   "cell_type": "code",
   "execution_count": 1,
   "metadata": {},
   "outputs": [
    {
     "name": "stdout",
     "output_type": "stream",
     "text": [
      "Error: Could not open video stream.\n"
     ]
    }
   ],
   "source": [
    "import cv2\n",
    "\n",
    "def show_camera_feed():\n",
    "    # Replace with your camera's stream URL\n",
    "    camera_stream_url = '192.168.100.65'\n",
    "\n",
    "    # Create a VideoCapture object\n",
    "    cap = cv2.VideoCapture(camera_stream_url)\n",
    "\n",
    "    # Check if the camera opened successfully\n",
    "    if not cap.isOpened():\n",
    "        print(\"Error: Could not open video stream.\")\n",
    "        return\n",
    "\n",
    "    # Read and display frames from the camera\n",
    "    while True:\n",
    "        ret, frame = cap.read()\n",
    "        if ret:\n",
    "            cv2.imshow('Camera Feed', frame)\n",
    "            # Press 'q' to exit the window\n",
    "            if cv2.waitKey(1) & 0xFF == ord('q'):\n",
    "                break\n",
    "        else:\n",
    "            print(\"Error: Could not read frame.\")\n",
    "            break\n",
    "\n",
    "    # Release the VideoCapture object and close the window\n",
    "    cap.release()\n",
    "    cv2.destroyAllWindows()\n",
    "\n",
    "show_camera_feed()\n"
   ]
  },
  {
   "cell_type": "code",
   "execution_count": 3,
   "metadata": {},
   "outputs": [],
   "source": [
    "import requests\n",
    "\n",
    "r = requests.get('http://192.168.100.65')"
   ]
  },
  {
   "cell_type": "code",
   "execution_count": 5,
   "metadata": {},
   "outputs": [
    {
     "data": {
      "text/plain": [
       "b'<!DOCTYPE html>\\n<html lang=\"en\">\\n<head>\\n  <meta charset=\"UTF-8\">\\n  <base href=\"/\">\\n  <meta name=\"viewport\" content=\"width=device-width, shrink-to-fit=no, initial-scale=1.0, user-scalable=no\">\\n\\n  <title>UniFi Video</title>\\n\\n  <link href=\"css/app.css?cb=621d008ed35257937cdec1d51c3e69252b493b2a\" rel=\"stylesheet\" type=\"text/css\">\\n  <link href=\"css/ubnt-icon/style.css?cb=621d008ed35257937cdec1d51c3e69252b493b2a\" rel=\"stylesheet\" type=\"text/css\">\\n  <link href=\"css/styles.css?cb=621d008ed35257937cdec1d51c3e69252b493b2a\" rel=\"stylesheet\" type=\"text/css\">\\n</head>\\n<body>\\n\\n  <main-view ui-view></main-view>\\n\\n  <script type=\"text/javascript\" src=\"lib/head.load.min.js?cb=621d008ed35257937cdec1d51c3e69252b493b2a\" data-headjs-load=\"main.js?cb=621d008ed35257937cdec1d51c3e69252b493b2a\"></script>\\n</body>\\n</html>\\n'"
      ]
     },
     "execution_count": 5,
     "metadata": {},
     "output_type": "execute_result"
    }
   ],
   "source": [
    "r.content"
   ]
  }
 ],
 "metadata": {
  "kernelspec": {
   "display_name": "Python 3",
   "language": "python",
   "name": "python3"
  },
  "language_info": {
   "codemirror_mode": {
    "name": "ipython",
    "version": 3
   },
   "file_extension": ".py",
   "mimetype": "text/x-python",
   "name": "python",
   "nbconvert_exporter": "python",
   "pygments_lexer": "ipython3",
   "version": "3.7.0"
  }
 },
 "nbformat": 4,
 "nbformat_minor": 2
}
