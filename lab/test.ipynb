{
 "cells": [
  {
   "cell_type": "code",
   "execution_count": 1,
   "metadata": {},
   "outputs": [
    {
     "name": "stdout",
     "output_type": "stream",
     "text": [
      "Error: Could not open video stream.\n"
     ]
    }
   ],
   "source": [
    "import cv2\n",
    "\n",
    "def show_camera_feed():\n",
    "    # Replace with your camera's stream URL\n",
    "    camera_stream_url = '192.168.100.65'\n",
    "\n",
    "    # Create a VideoCapture object\n",
    "    cap = cv2.VideoCapture(camera_stream_url)\n",
    "\n",
    "    # Check if the camera opened successfully\n",
    "    if not cap.isOpened():\n",
    "        print(\"Error: Could not open video stream.\")\n",
    "        return\n",
    "\n",
    "    # Read and display frames from the camera\n",
    "    while True:\n",
    "        ret, frame = cap.read()\n",
    "        if ret:\n",
    "            cv2.imshow('Camera Feed', frame)\n",
    "            # Press 'q' to exit the window\n",
    "            if cv2.waitKey(1) & 0xFF == ord('q'):\n",
    "                break\n",
    "        else:\n",
    "            print(\"Error: Could not read frame.\")\n",
    "            break\n",
    "\n",
    "    # Release the VideoCapture object and close the window\n",
    "    cap.release()\n",
    "    cv2.destroyAllWindows()\n",
    "\n",
    "show_camera_feed()\n"
   ]
  },
  {
   "cell_type": "code",
   "execution_count": 3,
   "metadata": {},
   "outputs": [],
   "source": [
    "import requests\n",
    "\n",
    "r = requests.get('http://192.168.100.65')"
   ]
  },
  {
   "cell_type": "code",
   "execution_count": 2,
   "metadata": {},
   "outputs": [],
   "source": [
    "dic = {'hi': 'hello'}"
   ]
  },
  {
   "cell_type": "code",
   "execution_count": null,
   "metadata": {},
   "outputs": [],
   "source": [
    "dic."
   ]
  },
  {
   "cell_type": "code",
   "execution_count": 5,
   "metadata": {},
   "outputs": [
    {
     "name": "stdout",
     "output_type": "stream",
     "text": [
      "24-02-26 13:39:00 - ⚠️ Items ['../dataset/Tarmica/image_4a4c55710ca94933b7768d382475391a.jpg', '../dataset/Tarmica/image_7927add9869148378aa478ccef7afca7.jpg', '../dataset/Tarmica/image_c0e9d1081fc2479e9816b91b57fbe0be.jpg', '../dataset/Tarmica/image_51c74bbb37a2464fb18afa784a1d344b.jpg', '../dataset/Tarmica/image_e32d790939514c3aa2b565bebf59541a.jpg', '../dataset/Tarmica/image_3d7e855d34cd42828c12b7cdeb3e3829.jpg', '../dataset/Tarmica/image_d0afb7d50a0743388fff13d7bb6a79c9.jpg', '../dataset/Tarmica/image_d7d7f24edca94d7cb4d2ce9676c9ed9c.jpg', '../dataset/Tarmica/image_1c13626ce0d94befac4135b660308117.jpg', '../dataset/Tarmica/image_97af9f34f6504daa972340d62452629c.jpg', '../dataset/Tarmica/image_ae09309c89184b3f9a7a9b511e12dc74.jpg', '../dataset/Tarmica/image_751f964c21b3490588fe24682eab0a9c.jpg', '../dataset/Tarmica/image_327c4d2d253b4aca930138bacd8938ee.jpg', '../dataset/Tarmica/image_66764d522e8c4a589cfbb53c713f95c9.jpg', '../dataset/Tarmica/image_1f32a1409b044222bfc44dca94ee2a3f.jpg', '../dataset/Tarmica/image_feb4f9f1711045f18a478a823485195f.jpg', '../dataset/Tarmica/image_973eb30704634c1d8ef703aae484263f.jpg', '../dataset/Tarmica/image_1719e88428c741c1b67972b3d0ae37ea.jpg', '../dataset/Tarmica/image_7d63233b20d041ffb014ab383c62c2e1.jpg', '../dataset/Tarmica/image_e41885e7178841f787b7d4fe9aad3587.jpg', '../dataset/Tarmica/image_9b4e087e49e842fb9fc379d527a21d7d.jpg', '../dataset/Tarmica/image_f650d2788d1545e8a248e181ed2a7f36.jpg', '../dataset/Tarmica/image_5c106cbd16984ba8951ea7dbc09ca9d4.jpg', '../dataset/Tarmica/image_a5be26ca00f349c5a46d1157d2575d2a.jpg', '../dataset/Tarmica/image_be64a5e1da9b4ad68d2f806ed2721938.jpg', '../dataset/Tarmica/image_79a8790d5cf8442593ca4b56fa710eae.jpg', '../dataset/Tarmica/image_a8e0a1baa22b4e25ad358754029fde1f.jpg', '../dataset/Tarmica/image_3581e473ad124f39a2fa2a05b6603888.jpg', '../dataset/Tarmica/image_34351ad64bf14914bad3b6ba04481719.jpg', '../dataset/Tarmica/image_514fed15cee647cfaa6ee9f2254285c8.jpg', '../dataset/Tarmica/image_c3acccb5a39645eab99edb8d30c23144.jpg'] were added into ../dataset/Tarmica just after data source ../dataset/Tarmica/representations_vgg_face.pkl created!\n"
     ]
    },
    {
     "name": "stderr",
     "output_type": "stream",
     "text": [
      "Finding representations:   0%|          | 0/31 [00:00<?, ?it/s]"
     ]
    },
    {
     "name": "stderr",
     "output_type": "stream",
     "text": [
      "Finding representations: 100%|██████████| 31/31 [00:24<00:00,  1.28it/s]\n"
     ]
    },
    {
     "name": "stdout",
     "output_type": "stream",
     "text": [
      "24-02-26 13:39:25 - ⚠️ Items ['dataset/Tarmica/image_4a4c55710ca94933b7768d382475391a.jpg', 'dataset/Tarmica/image_514fed15cee647cfaa6ee9f2254285c8.jpg', 'dataset/Tarmica/image_34351ad64bf14914bad3b6ba04481719.jpg', 'dataset/Tarmica/image_c3acccb5a39645eab99edb8d30c23144.jpg', 'dataset/Tarmica/image_9b4e087e49e842fb9fc379d527a21d7d.jpg', 'dataset/Tarmica/image_d0afb7d50a0743388fff13d7bb6a79c9.jpg', 'dataset/Tarmica/image_a5be26ca00f349c5a46d1157d2575d2a.jpg', 'dataset/Tarmica/image_1c13626ce0d94befac4135b660308117.jpg', 'dataset/Tarmica/image_ae09309c89184b3f9a7a9b511e12dc74.jpg', 'dataset/Tarmica/image_79a8790d5cf8442593ca4b56fa710eae.jpg', 'dataset/Tarmica/image_751f964c21b3490588fe24682eab0a9c.jpg', 'dataset/Tarmica/image_5c106cbd16984ba8951ea7dbc09ca9d4.jpg', 'dataset/Tarmica/image_feb4f9f1711045f18a478a823485195f.jpg', 'dataset/Tarmica/image_1f32a1409b044222bfc44dca94ee2a3f.jpg', 'dataset/Tarmica/image_e41885e7178841f787b7d4fe9aad3587.jpg', 'dataset/Tarmica/image_51c74bbb37a2464fb18afa784a1d344b.jpg', 'dataset/Tarmica/image_66764d522e8c4a589cfbb53c713f95c9.jpg', 'dataset/Tarmica/image_c0e9d1081fc2479e9816b91b57fbe0be.jpg', 'dataset/Tarmica/image_327c4d2d253b4aca930138bacd8938ee.jpg', 'dataset/Tarmica/image_be64a5e1da9b4ad68d2f806ed2721938.jpg', 'dataset/Tarmica/image_973eb30704634c1d8ef703aae484263f.jpg', 'dataset/Tarmica/image_f650d2788d1545e8a248e181ed2a7f36.jpg', 'dataset/Tarmica/image_e32d790939514c3aa2b565bebf59541a.jpg', 'dataset/Tarmica/image_7927add9869148378aa478ccef7afca7.jpg', 'dataset/Tarmica/image_d7d7f24edca94d7cb4d2ce9676c9ed9c.jpg', 'dataset/Tarmica/image_1719e88428c741c1b67972b3d0ae37ea.jpg', 'dataset/Tarmica/image_3581e473ad124f39a2fa2a05b6603888.jpg', 'dataset/Tarmica/image_a8e0a1baa22b4e25ad358754029fde1f.jpg', 'dataset/Tarmica/image_97af9f34f6504daa972340d62452629c.jpg', 'dataset/Tarmica/image_7d63233b20d041ffb014ab383c62c2e1.jpg', 'dataset/Tarmica/image_3d7e855d34cd42828c12b7cdeb3e3829.jpg'] were dropped from ../dataset/Tarmica just after data source ../dataset/Tarmica/representations_vgg_face.pkl created!\n",
      "24-02-26 13:39:25 - 31 new representations are just added whereas 31 represented one(s) are just dropped in ../dataset/Tarmica/representations_vgg_face.pkl file.\n",
      "24-02-26 13:39:25 - There are 31 representations found in representations_vgg_face.pkl\n",
      "24-02-26 13:39:26 - find function lasts 25.501569032669067 seconds\n"
     ]
    },
    {
     "data": {
      "text/plain": [
       "[                                             identity  target_x  target_y  \\\n",
       " 0   ../dataset/Tarmica/image_1c13626ce0d94befac413...       233        93   \n",
       " 1   ../dataset/Tarmica/image_7d63233b20d041ffb014a...       238        96   \n",
       " 2   ../dataset/Tarmica/image_327c4d2d253b4aca93013...       223        76   \n",
       " 3   ../dataset/Tarmica/image_c3acccb5a39645eab99ed...       229        97   \n",
       " 4   ../dataset/Tarmica/image_751f964c21b3490588fe2...       240        78   \n",
       " 5   ../dataset/Tarmica/image_4a4c55710ca94933b7768...       245       117   \n",
       " 6   ../dataset/Tarmica/image_514fed15cee647cfaa6ee...       242       112   \n",
       " 7   ../dataset/Tarmica/image_c0e9d1081fc2479e9816b...       257       100   \n",
       " 8   ../dataset/Tarmica/image_66764d522e8c4a589cfbb...       241       171   \n",
       " 9   ../dataset/Tarmica/image_97af9f34f6504daa97234...         0         0   \n",
       " 10  ../dataset/Tarmica/image_51c74bbb37a2464fb18af...         0         0   \n",
       " 11  ../dataset/Tarmica/image_7927add9869148378aa47...         0         0   \n",
       " 12  ../dataset/Tarmica/image_34351ad64bf14914bad3b...         0         0   \n",
       " 13  ../dataset/Tarmica/image_d7d7f24edca94d7cb4d2c...         0         0   \n",
       " 14  ../dataset/Tarmica/image_be64a5e1da9b4ad68d2f8...         0         0   \n",
       " 15  ../dataset/Tarmica/image_9b4e087e49e842fb9fc37...         0         0   \n",
       " 16  ../dataset/Tarmica/image_1719e88428c741c1b6797...         0         0   \n",
       " 17  ../dataset/Tarmica/image_d0afb7d50a0743388fff1...         0         0   \n",
       " 18  ../dataset/Tarmica/image_e41885e7178841f787b7d...         0         0   \n",
       " 19  ../dataset/Tarmica/image_f650d2788d1545e8a248e...         0         0   \n",
       " 20  ../dataset/Tarmica/image_973eb30704634c1d8ef70...         0         0   \n",
       " 21  ../dataset/Tarmica/image_e32d790939514c3aa2b56...         0         0   \n",
       " 22  ../dataset/Tarmica/image_5c106cbd16984ba8951ea...         0         0   \n",
       " 23  ../dataset/Tarmica/image_3d7e855d34cd42828c12b...         0         0   \n",
       " 24  ../dataset/Tarmica/image_ae09309c89184b3f9a7a9...         0         0   \n",
       " 25  ../dataset/Tarmica/image_a5be26ca00f349c5a46d1...         0         0   \n",
       " 26  ../dataset/Tarmica/image_feb4f9f1711045f18a478...         0         0   \n",
       " 27  ../dataset/Tarmica/image_3581e473ad124f39a2fa2...         0         0   \n",
       " 28  ../dataset/Tarmica/image_1f32a1409b044222bfc44...         0         0   \n",
       " 29  ../dataset/Tarmica/image_79a8790d5cf8442593ca4...         0         0   \n",
       " 30  ../dataset/Tarmica/image_a8e0a1baa22b4e25ad358...         0         0   \n",
       " \n",
       "     target_w  target_h  source_x  source_y  source_w  source_h  threshold  \\\n",
       " 0        181       181       233        93       181       181       0.68   \n",
       " 1        176       176       233        93       181       181       0.68   \n",
       " 2        201       201       233        93       181       181       0.68   \n",
       " 3        179       179       233        93       181       181       0.68   \n",
       " 4        171       171       233        93       181       181       0.68   \n",
       " 5        168       168       233        93       181       181       0.68   \n",
       " 6        160       160       233        93       181       181       0.68   \n",
       " 7        149       149       233        93       181       181       0.68   \n",
       " 8         96        96       233        93       181       181       0.68   \n",
       " 9        640       480       233        93       181       181       0.68   \n",
       " 10       640       480       233        93       181       181       0.68   \n",
       " 11       640       480       233        93       181       181       0.68   \n",
       " 12       640       480       233        93       181       181       0.68   \n",
       " 13       640       480       233        93       181       181       0.68   \n",
       " 14       640       480       233        93       181       181       0.68   \n",
       " 15       640       480       233        93       181       181       0.68   \n",
       " 16       640       480       233        93       181       181       0.68   \n",
       " 17       640       480       233        93       181       181       0.68   \n",
       " 18       640       480       233        93       181       181       0.68   \n",
       " 19       640       480       233        93       181       181       0.68   \n",
       " 20       640       480       233        93       181       181       0.68   \n",
       " 21       640       480       233        93       181       181       0.68   \n",
       " 22       640       480       233        93       181       181       0.68   \n",
       " 23       640       480       233        93       181       181       0.68   \n",
       " 24       640       480       233        93       181       181       0.68   \n",
       " 25       640       480       233        93       181       181       0.68   \n",
       " 26       640       480       233        93       181       181       0.68   \n",
       " 27       640       480       233        93       181       181       0.68   \n",
       " 28       640       480       233        93       181       181       0.68   \n",
       " 29       640       480       233        93       181       181       0.68   \n",
       " 30       640       480       233        93       181       181       0.68   \n",
       " \n",
       "         distance  \n",
       " 0  -2.220446e-16  \n",
       " 1   4.856320e-02  \n",
       " 2   5.590071e-02  \n",
       " 3   5.929311e-02  \n",
       " 4   7.575969e-02  \n",
       " 5   7.719175e-02  \n",
       " 6   8.769295e-02  \n",
       " 7   1.854216e-01  \n",
       " 8   5.200503e-01  \n",
       " 9   5.705085e-01  \n",
       " 10  5.709550e-01  \n",
       " 11  5.802112e-01  \n",
       " 12  5.808030e-01  \n",
       " 13  5.810213e-01  \n",
       " 14  5.835233e-01  \n",
       " 15  5.840819e-01  \n",
       " 16  5.846714e-01  \n",
       " 17  5.854077e-01  \n",
       " 18  5.858876e-01  \n",
       " 19  5.865058e-01  \n",
       " 20  5.870855e-01  \n",
       " 21  5.884349e-01  \n",
       " 22  5.888826e-01  \n",
       " 23  5.913770e-01  \n",
       " 24  5.922436e-01  \n",
       " 25  5.966759e-01  \n",
       " 26  5.966861e-01  \n",
       " 27  5.977517e-01  \n",
       " 28  5.979440e-01  \n",
       " 29  5.991385e-01  \n",
       " 30  6.038800e-01  ]"
      ]
     },
     "execution_count": 5,
     "metadata": {},
     "output_type": "execute_result"
    }
   ],
   "source": [
    "from deepface import DeepFace\n",
    "\n",
    "faceobjs = DeepFace.find(img_path='../dataset/Tarmica/image_1c13626ce0d94befac4135b660308117.jpg', db_path='../dataset/Tarmica', enforce_detection=False)\n",
    "\n",
    "faceobjs"
   ]
  },
  {
   "cell_type": "code",
   "execution_count": 6,
   "metadata": {},
   "outputs": [
    {
     "name": "stdout",
     "output_type": "stream",
     "text": [
      "<class 'list'>\n"
     ]
    }
   ],
   "source": [
    "print(type(faceobjs))"
   ]
  },
  {
   "cell_type": "code",
   "execution_count": 18,
   "metadata": {},
   "outputs": [
    {
     "data": {
      "text/plain": [
       "'../dataset/Tarmica/image_1c13626ce0d94befac4135b660308117.jpg'"
      ]
     },
     "execution_count": 18,
     "metadata": {},
     "output_type": "execute_result"
    }
   ],
   "source": [
    "faceobjs[0].iloc[0, 0]\n",
    "\n"
   ]
  },
  {
   "cell_type": "code",
   "execution_count": null,
   "metadata": {},
   "outputs": [],
   "source": [
    "import json\n",
    "import boto3\n",
    "from deepface import DeepFace\n",
    "\n",
    "# Initialize the S3 client\n",
    "s3_client = boto3.client('s3')\n",
    "\n",
    "def lambda_handler(event, context):\n",
    "    try:\n",
    "        # Parse the incoming request to get the image data\n",
    "        image_data = event['body']\n",
    "        \n",
    "        # Detect the face in the image using DeepFace\n",
    "        face_detected = DeepFace.extract_faces(image_data, enforce_detection=False)\n",
    "        \n",
    "        if face_detected[0]['confidence']>0.7:\n",
    "            # If a face is detected, search for the face in the S3 bucket\n",
    "            db_path = \"s3://chumbucketzw/images/\"\n",
    "            recognition_result = DeepFace.find(img_path=image_data, db_path=db_path, enforce_detection=False)\n",
    "            faces_df = recognition_result[0]\n",
    "            tup = recognition_result[0].shape\n",
    "            \n",
    "            if tup[0]>1:\n",
    "                identity = faces_df.iloc[0,0]  # Extract the person's name\n",
    "                person_name = identity.split('/')[-2]\n",
    "                return {\n",
    "                    'statusCode': 200,\n",
    "                    'body': json.dumps(f'Person identified: {person_name}')\n",
    "                }\n",
    "            else:\n",
    "                # Face not recognized\n",
    "                return {\n",
    "                    'statusCode': 200,\n",
    "                    'body': json.dumps('Unknown human detected')\n",
    "                }\n",
    "        else:\n",
    "            # No face detected\n",
    "            return {\n",
    "                'statusCode': 200,\n",
    "                'body': json.dumps('No face is in the image')\n",
    "            }\n",
    "    except Exception as e:\n",
    "        return {\n",
    "            'statusCode': 500,\n",
    "            'body': json.dumps(f'Error processing the image: {str(e)}')\n",
    "        }\n"
   ]
  }
 ],
 "metadata": {
  "kernelspec": {
   "display_name": "Python 3",
   "language": "python",
   "name": "python3"
  },
  "language_info": {
   "codemirror_mode": {
    "name": "ipython",
    "version": 3
   },
   "file_extension": ".py",
   "mimetype": "text/x-python",
   "name": "python",
   "nbconvert_exporter": "python",
   "pygments_lexer": "ipython3",
   "version": "3.11.0"
  }
 },
 "nbformat": 4,
 "nbformat_minor": 2
}
