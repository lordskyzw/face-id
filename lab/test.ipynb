{
 "cells": [
  {
   "cell_type": "code",
   "execution_count": null,
   "metadata": {},
   "outputs": [],
   "source": []
  },
  {
   "cell_type": "code",
   "execution_count": 17,
   "metadata": {},
   "outputs": [
    {
     "name": "stdout",
     "output_type": "stream",
     "text": [
      "200\n",
      "{'body': '\"Person identified: Tarmica\"', 'statusCode': 200}\n"
     ]
    }
   ],
   "source": [
    "import requests\n",
    "import base64\n",
    "\n",
    "# Convert image to base64\n",
    "with open(\"../dataset/Tarmica/image_c3acccb5a39645eab99edb8d30c23144.jpg\", \"rb\") as image_file:\n",
    "    encoded_string = base64.b64encode(image_file.read()).decode('utf-8')  # decode bytes to string\n",
    "\n",
    "# Send the image to the server as JSON\n",
    "res = requests.post(\n",
    "    'https://face-id.up.railway.app/facial_recognition',\n",
    "    json={'image': encoded_string, 'name': 'test'}  # use the `json` parameter instead of `data`\n",
    ")\n",
    "\n",
    "print(res.status_code)\n",
    "print(res.json())\n"
   ]
  },
  {
   "cell_type": "code",
   "execution_count": null,
   "metadata": {},
   "outputs": [
    {
     "ename": "",
     "evalue": "",
     "output_type": "error",
     "traceback": [
      "\u001b[1;31mRunning cells with 'face-id' requires the ipykernel package.\n",
      "\u001b[1;31mRun the following command to install 'ipykernel' into the Python environment. \n",
      "\u001b[1;31mCommand: '/Users/lordskyzw/face-id/face-id/bin/python -m pip install ipykernel -U --force-reinstall'"
     ]
    }
   ],
   "source": [
    "from deepface import Deepface\n",
    "from pathlib import Path\n",
    "\n",
    "#we need to break down the match_faces() function into 2 functions\n",
    "\n",
    "#first function will match the faces (hint, use the verify function on cropped up picture and any of the faces in the dataset)\n",
    "\n",
    "def crop_faces(image: Path)-> Path:\n",
    "    '''extract and return paths of cropped faces'''\n",
    "    extracted_faces = Deepface.extract_faces(image, enforce_detection=False)\n",
    "    return extracted_faces\n",
    "\n",
    "extracted_faces = crop_faces('../dataset/Tarmica/image_1c13626ce0d94befac4135b660308117.jpg')\n",
    "extracted_faces\n"
   ]
  }
 ],
 "metadata": {
  "kernelspec": {
   "display_name": "Python 3",
   "language": "python",
   "name": "python3"
  },
  "language_info": {
   "codemirror_mode": {
    "name": "ipython",
    "version": 3
   },
   "file_extension": ".py",
   "mimetype": "text/x-python",
   "name": "python",
   "nbconvert_exporter": "python",
   "pygments_lexer": "ipython3",
   "version": "3.9.6"
  }
 },
 "nbformat": 4,
 "nbformat_minor": 2
}
