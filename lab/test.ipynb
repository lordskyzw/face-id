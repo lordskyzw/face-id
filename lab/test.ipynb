{
 "cells": [
  {
   "cell_type": "code",
   "execution_count": 17,
   "metadata": {},
   "outputs": [
    {
     "name": "stdout",
     "output_type": "stream",
     "text": [
      "200\n",
      "{'body': '\"Person identified: Tarmica\"', 'statusCode': 200}\n"
     ]
    }
   ],
   "source": [
    "import requests\n",
    "import base64\n",
    "\n",
    "# Convert image to base64\n",
    "with open(\"../dataset/Tarmica/image_c3acccb5a39645eab99edb8d30c23144.jpg\", \"rb\") as image_file:\n",
    "    encoded_string = base64.b64encode(image_file.read()).decode('utf-8')  # decode bytes to string\n",
    "\n",
    "# Send the image to the server as JSON\n",
    "res = requests.post(\n",
    "    'https://face-id.up.railway.app/facial_recognition',\n",
    "    json={'image': encoded_string, 'name': 'test'}  # use the `json` parameter instead of `data`\n",
    ")\n",
    "\n",
    "print(res.status_code)\n",
    "print(res.json())\n"
   ]
  },
  {
   "cell_type": "code",
   "execution_count": null,
   "metadata": {},
   "outputs": [],
   "source": [
    "from deepface import DeepFace\n",
    "from pathlib import Path\n",
    "\n",
    "#we need to break down the match_faces() function into 2 functions\n",
    "\n",
    "#first function will match the faces (hint, use the verify function on cropped up picture and any of the faces in the dataset)\n",
    "\n",
    "def crop_faces(image: Path)-> Path:\n",
    "    '''extract and return paths of cropped faces'''\n",
    "    extracted_faces = DeepFace.extract_faces(image, enforce_detection=False)\n",
    "    return extracted_faces\n",
    "\n",
    "extracted_faces = crop_faces('../dataset/Tarmica/image_1c13626ce0d94befac4135b660308117.jpg')\n",
    "extracted_faces\n"
   ]
  },
  {
   "cell_type": "code",
   "execution_count": null,
   "metadata": {},
   "outputs": [],
   "source": [
    "from deepface import DeepFace\n",
    "\n",
    "face_info = DeepFace.extract_faces(img_path='../dataset/Tarmica/image_1c13626ce0d94befac4135b660308117.jpg', detector_backend='mtcnn')"
   ]
  },
  {
   "cell_type": "code",
   "execution_count": 1,
   "metadata": {},
   "outputs": [
    {
     "ename": "AttributeError",
     "evalue": "'list' object has no attribute 'empty'",
     "output_type": "error",
     "traceback": [
      "\u001b[0;31m---------------------------------------------------------------------------\u001b[0m",
      "\u001b[0;31mAttributeError\u001b[0m                            Traceback (most recent call last)",
      "Cell \u001b[0;32mIn[1], line 3\u001b[0m\n\u001b[1;32m      1\u001b[0m a \u001b[38;5;241m=\u001b[39m [\u001b[38;5;241m1\u001b[39m,\u001b[38;5;241m4\u001b[39m,\u001b[38;5;241m5\u001b[39m]\n\u001b[0;32m----> 3\u001b[0m \u001b[38;5;28mprint\u001b[39m(\u001b[43ma\u001b[49m\u001b[38;5;241;43m.\u001b[39;49m\u001b[43mempty\u001b[49m())\n",
      "\u001b[0;31mAttributeError\u001b[0m: 'list' object has no attribute 'empty'"
     ]
    }
   ],
   "source": [
    "a = [1,4,5]\n",
    "\n",
    "print(a.empty())"
   ]
  }
 ],
 "metadata": {
  "kernelspec": {
   "display_name": "Python 3",
   "language": "python",
   "name": "python3"
  },
  "language_info": {
   "codemirror_mode": {
    "name": "ipython",
    "version": 3
   },
   "file_extension": ".py",
   "mimetype": "text/x-python",
   "name": "python",
   "nbconvert_exporter": "python",
   "pygments_lexer": "ipython3",
   "version": "3.9.6"
  }
 },
 "nbformat": 4,
 "nbformat_minor": 2
}
